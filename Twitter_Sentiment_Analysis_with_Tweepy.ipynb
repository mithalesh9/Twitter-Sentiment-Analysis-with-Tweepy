{
  "nbformat": 4,
  "nbformat_minor": 0,
  "metadata": {
    "colab": {
      "name": "Twitter Sentiment Analysis with Tweepy.ipynb",
      "provenance": [],
      "collapsed_sections": []
    },
    "kernelspec": {
      "name": "python3",
      "display_name": "Python 3"
    },
    "language_info": {
      "name": "python"
    }
  },
  "cells": [
    {
      "cell_type": "code",
      "execution_count": null,
      "metadata": {
        "id": "YyYNsma_TFEX"
      },
      "outputs": [],
      "source": [
        "#Install the libraries\n",
        "import tweepy\n",
        "from textblob import TextBlob\n",
        "from wordcloud import WordCloud\n",
        "import pandas as pd\n",
        "import numpy as np\n",
        "import re\n",
        "import matplotlib.pyplot as plt\n",
        "plt.style.use('fivethirtyeight')"
      ]
    },
    {
      "cell_type": "code",
      "source": [
        "#Extract 100 tweets from the twitter user\n",
        "posts = api.user_timeline(screen_name = \"BillGates\", count = 100, lang = 'en', tweet_mode = 'extended')\n",
        "\n",
        "#Print the last 5 tweets from the account\n",
        "print(\"Show the 5 recents tweets: \\n\")\n",
        "i = 1\n",
        "for tweet in posts[0:5]:\n",
        "  print(str(i) + ')' + tweet.full_text + '\\n')\n",
        "  i = i+1"
      ],
      "metadata": {
        "colab": {
          "base_uri": "https://localhost:8080/"
        },
        "id": "w9Bt8_hwTTMk",
        "outputId": "27dad9d1-793d-4612-afd0-c4cd55cc4a0e"
      },
      "execution_count": null,
      "outputs": [
        {
          "output_type": "stream",
          "name": "stdout",
          "text": [
            "Show the 5 recents tweets: \n",
            "\n",
            "1)This is a sad day. Reversing Roe v. Wade is an unjust and unacceptable setback. And it puts women’s lives at risk, especially the most disadvantaged.\n",
            "\n",
            "2)Through renewed investments in malaria and NTDs, we can help end these endemic diseases, and prevent future pandemics. https://t.co/Aw9fIJHr2H\n",
            "\n",
            "3)Daniel Boakye of @TheENDFund has spent 45 years working on solutions for neglected tropical diseases, including river blindness. As he says, “We have the tools we need. The priority now is to deploy them in the right way to get to elimination.” https://t.co/Mzdh5sOoCr\n",
            "\n",
            "4)When most people think about what produces greenhouse gas emissions, they think about cars and electricity. But they add up to only about one third of the total. Clean hydrogen could help eliminate the rest: https://t.co/CtB8gnMB2Z https://t.co/WUocOWxKcr\n",
            "\n",
            "5)The Power by @NaomiAllthenews raises timely questions about the way people are connected by gender, family, community, and country. https://t.co/N0CLt6p8vK\n",
            "\n"
          ]
        }
      ]
    },
    {
      "cell_type": "code",
      "source": [
        "#Create a dataframe with a column called tweets\n",
        "df = pd.DataFrame([tweet.full_text for tweet in posts], columns = ['Tweets'])\n",
        "\n",
        "#Show the first 5 rows of data\n",
        "df.head()"
      ],
      "metadata": {
        "colab": {
          "base_uri": "https://localhost:8080/",
          "height": 206
        },
        "id": "9ZTTqSQCwaiu",
        "outputId": "4e82b73c-d029-4219-c883-02c01896f310"
      },
      "execution_count": null,
      "outputs": [
        {
          "output_type": "execute_result",
          "data": {
            "text/plain": [
              "                                              Tweets\n",
              "0  This is a sad day. Reversing Roe v. Wade is an...\n",
              "1  Through renewed investments in malaria and NTD...\n",
              "2  Daniel Boakye of @TheENDFund has spent 45 year...\n",
              "3  When most people think about what produces gre...\n",
              "4  The Power by @NaomiAllthenews raises timely qu..."
            ],
            "text/html": [
              "\n",
              "  <div id=\"df-0c7d6f42-5257-400d-aa3f-150aa133c080\">\n",
              "    <div class=\"colab-df-container\">\n",
              "      <div>\n",
              "<style scoped>\n",
              "    .dataframe tbody tr th:only-of-type {\n",
              "        vertical-align: middle;\n",
              "    }\n",
              "\n",
              "    .dataframe tbody tr th {\n",
              "        vertical-align: top;\n",
              "    }\n",
              "\n",
              "    .dataframe thead th {\n",
              "        text-align: right;\n",
              "    }\n",
              "</style>\n",
              "<table border=\"1\" class=\"dataframe\">\n",
              "  <thead>\n",
              "    <tr style=\"text-align: right;\">\n",
              "      <th></th>\n",
              "      <th>Tweets</th>\n",
              "    </tr>\n",
              "  </thead>\n",
              "  <tbody>\n",
              "    <tr>\n",
              "      <th>0</th>\n",
              "      <td>This is a sad day. Reversing Roe v. Wade is an...</td>\n",
              "    </tr>\n",
              "    <tr>\n",
              "      <th>1</th>\n",
              "      <td>Through renewed investments in malaria and NTD...</td>\n",
              "    </tr>\n",
              "    <tr>\n",
              "      <th>2</th>\n",
              "      <td>Daniel Boakye of @TheENDFund has spent 45 year...</td>\n",
              "    </tr>\n",
              "    <tr>\n",
              "      <th>3</th>\n",
              "      <td>When most people think about what produces gre...</td>\n",
              "    </tr>\n",
              "    <tr>\n",
              "      <th>4</th>\n",
              "      <td>The Power by @NaomiAllthenews raises timely qu...</td>\n",
              "    </tr>\n",
              "  </tbody>\n",
              "</table>\n",
              "</div>\n",
              "      <button class=\"colab-df-convert\" onclick=\"convertToInteractive('df-0c7d6f42-5257-400d-aa3f-150aa133c080')\"\n",
              "              title=\"Convert this dataframe to an interactive table.\"\n",
              "              style=\"display:none;\">\n",
              "        \n",
              "  <svg xmlns=\"http://www.w3.org/2000/svg\" height=\"24px\"viewBox=\"0 0 24 24\"\n",
              "       width=\"24px\">\n",
              "    <path d=\"M0 0h24v24H0V0z\" fill=\"none\"/>\n",
              "    <path d=\"M18.56 5.44l.94 2.06.94-2.06 2.06-.94-2.06-.94-.94-2.06-.94 2.06-2.06.94zm-11 1L8.5 8.5l.94-2.06 2.06-.94-2.06-.94L8.5 2.5l-.94 2.06-2.06.94zm10 10l.94 2.06.94-2.06 2.06-.94-2.06-.94-.94-2.06-.94 2.06-2.06.94z\"/><path d=\"M17.41 7.96l-1.37-1.37c-.4-.4-.92-.59-1.43-.59-.52 0-1.04.2-1.43.59L10.3 9.45l-7.72 7.72c-.78.78-.78 2.05 0 2.83L4 21.41c.39.39.9.59 1.41.59.51 0 1.02-.2 1.41-.59l7.78-7.78 2.81-2.81c.8-.78.8-2.07 0-2.86zM5.41 20L4 18.59l7.72-7.72 1.47 1.35L5.41 20z\"/>\n",
              "  </svg>\n",
              "      </button>\n",
              "      \n",
              "  <style>\n",
              "    .colab-df-container {\n",
              "      display:flex;\n",
              "      flex-wrap:wrap;\n",
              "      gap: 12px;\n",
              "    }\n",
              "\n",
              "    .colab-df-convert {\n",
              "      background-color: #E8F0FE;\n",
              "      border: none;\n",
              "      border-radius: 50%;\n",
              "      cursor: pointer;\n",
              "      display: none;\n",
              "      fill: #1967D2;\n",
              "      height: 32px;\n",
              "      padding: 0 0 0 0;\n",
              "      width: 32px;\n",
              "    }\n",
              "\n",
              "    .colab-df-convert:hover {\n",
              "      background-color: #E2EBFA;\n",
              "      box-shadow: 0px 1px 2px rgba(60, 64, 67, 0.3), 0px 1px 3px 1px rgba(60, 64, 67, 0.15);\n",
              "      fill: #174EA6;\n",
              "    }\n",
              "\n",
              "    [theme=dark] .colab-df-convert {\n",
              "      background-color: #3B4455;\n",
              "      fill: #D2E3FC;\n",
              "    }\n",
              "\n",
              "    [theme=dark] .colab-df-convert:hover {\n",
              "      background-color: #434B5C;\n",
              "      box-shadow: 0px 1px 3px 1px rgba(0, 0, 0, 0.15);\n",
              "      filter: drop-shadow(0px 1px 2px rgba(0, 0, 0, 0.3));\n",
              "      fill: #FFFFFF;\n",
              "    }\n",
              "  </style>\n",
              "\n",
              "      <script>\n",
              "        const buttonEl =\n",
              "          document.querySelector('#df-0c7d6f42-5257-400d-aa3f-150aa133c080 button.colab-df-convert');\n",
              "        buttonEl.style.display =\n",
              "          google.colab.kernel.accessAllowed ? 'block' : 'none';\n",
              "\n",
              "        async function convertToInteractive(key) {\n",
              "          const element = document.querySelector('#df-0c7d6f42-5257-400d-aa3f-150aa133c080');\n",
              "          const dataTable =\n",
              "            await google.colab.kernel.invokeFunction('convertToInteractive',\n",
              "                                                     [key], {});\n",
              "          if (!dataTable) return;\n",
              "\n",
              "          const docLinkHtml = 'Like what you see? Visit the ' +\n",
              "            '<a target=\"_blank\" href=https://colab.research.google.com/notebooks/data_table.ipynb>data table notebook</a>'\n",
              "            + ' to learn more about interactive tables.';\n",
              "          element.innerHTML = '';\n",
              "          dataTable['output_type'] = 'display_data';\n",
              "          await google.colab.output.renderOutput(dataTable, element);\n",
              "          const docLink = document.createElement('div');\n",
              "          docLink.innerHTML = docLinkHtml;\n",
              "          element.appendChild(docLink);\n",
              "        }\n",
              "      </script>\n",
              "    </div>\n",
              "  </div>\n",
              "  "
            ]
          },
          "metadata": {},
          "execution_count": 4
        }
      ]
    },
    {
      "cell_type": "code",
      "source": [
        "#Clean the text\n",
        "\n",
        "def cleanTxT(text):\n",
        "  text = re.sub(r'@[A-Za-z0-9]+', '', text) #Removes @mentions\n",
        "  text = re.sub(r'#', '', text)  #Removing the '#\" symbol\"\n",
        "  text = re.sub(r'RT[\\s]+','', text)  #Removing RT\n",
        "  text = re.sub(r'https?:\\/\\/\\S+', '', text)   #Remove the hyper link\n",
        "\n",
        "  return text\n",
        "\n",
        "df['Tweets'] = df['Tweets'].apply(cleanTxT)\n",
        "\n",
        "#Show the cleaned Text\n",
        "df"
      ],
      "metadata": {
        "colab": {
          "base_uri": "https://localhost:8080/",
          "height": 423
        },
        "id": "FvuKMNWEwalp",
        "outputId": "709e0467-5cef-48bc-d7ed-d3393041ddec"
      },
      "execution_count": null,
      "outputs": [
        {
          "output_type": "execute_result",
          "data": {
            "text/plain": [
              "                                               Tweets\n",
              "0   This is a sad day. Reversing Roe v. Wade is an...\n",
              "1   Through renewed investments in malaria and NTD...\n",
              "2   Daniel Boakye of  has spent 45 years working o...\n",
              "3   When most people think about what produces gre...\n",
              "4   The Power by  raises timely questions about th...\n",
              "..                                                ...\n",
              "95  The best way to prevent pneumonia is to vaccin...\n",
              "96  Giving a TED talk is always a memorable (and n...\n",
              "97  Each day, polio workers around the world cross...\n",
              "98  Building a software company is nothing compare...\n",
              "99  The Global Fund is one of the kindest things p...\n",
              "\n",
              "[100 rows x 1 columns]"
            ],
            "text/html": [
              "\n",
              "  <div id=\"df-e284042d-994a-4352-bea3-91078a09b52d\">\n",
              "    <div class=\"colab-df-container\">\n",
              "      <div>\n",
              "<style scoped>\n",
              "    .dataframe tbody tr th:only-of-type {\n",
              "        vertical-align: middle;\n",
              "    }\n",
              "\n",
              "    .dataframe tbody tr th {\n",
              "        vertical-align: top;\n",
              "    }\n",
              "\n",
              "    .dataframe thead th {\n",
              "        text-align: right;\n",
              "    }\n",
              "</style>\n",
              "<table border=\"1\" class=\"dataframe\">\n",
              "  <thead>\n",
              "    <tr style=\"text-align: right;\">\n",
              "      <th></th>\n",
              "      <th>Tweets</th>\n",
              "    </tr>\n",
              "  </thead>\n",
              "  <tbody>\n",
              "    <tr>\n",
              "      <th>0</th>\n",
              "      <td>This is a sad day. Reversing Roe v. Wade is an...</td>\n",
              "    </tr>\n",
              "    <tr>\n",
              "      <th>1</th>\n",
              "      <td>Through renewed investments in malaria and NTD...</td>\n",
              "    </tr>\n",
              "    <tr>\n",
              "      <th>2</th>\n",
              "      <td>Daniel Boakye of  has spent 45 years working o...</td>\n",
              "    </tr>\n",
              "    <tr>\n",
              "      <th>3</th>\n",
              "      <td>When most people think about what produces gre...</td>\n",
              "    </tr>\n",
              "    <tr>\n",
              "      <th>4</th>\n",
              "      <td>The Power by  raises timely questions about th...</td>\n",
              "    </tr>\n",
              "    <tr>\n",
              "      <th>...</th>\n",
              "      <td>...</td>\n",
              "    </tr>\n",
              "    <tr>\n",
              "      <th>95</th>\n",
              "      <td>The best way to prevent pneumonia is to vaccin...</td>\n",
              "    </tr>\n",
              "    <tr>\n",
              "      <th>96</th>\n",
              "      <td>Giving a TED talk is always a memorable (and n...</td>\n",
              "    </tr>\n",
              "    <tr>\n",
              "      <th>97</th>\n",
              "      <td>Each day, polio workers around the world cross...</td>\n",
              "    </tr>\n",
              "    <tr>\n",
              "      <th>98</th>\n",
              "      <td>Building a software company is nothing compare...</td>\n",
              "    </tr>\n",
              "    <tr>\n",
              "      <th>99</th>\n",
              "      <td>The Global Fund is one of the kindest things p...</td>\n",
              "    </tr>\n",
              "  </tbody>\n",
              "</table>\n",
              "<p>100 rows × 1 columns</p>\n",
              "</div>\n",
              "      <button class=\"colab-df-convert\" onclick=\"convertToInteractive('df-e284042d-994a-4352-bea3-91078a09b52d')\"\n",
              "              title=\"Convert this dataframe to an interactive table.\"\n",
              "              style=\"display:none;\">\n",
              "        \n",
              "  <svg xmlns=\"http://www.w3.org/2000/svg\" height=\"24px\"viewBox=\"0 0 24 24\"\n",
              "       width=\"24px\">\n",
              "    <path d=\"M0 0h24v24H0V0z\" fill=\"none\"/>\n",
              "    <path d=\"M18.56 5.44l.94 2.06.94-2.06 2.06-.94-2.06-.94-.94-2.06-.94 2.06-2.06.94zm-11 1L8.5 8.5l.94-2.06 2.06-.94-2.06-.94L8.5 2.5l-.94 2.06-2.06.94zm10 10l.94 2.06.94-2.06 2.06-.94-2.06-.94-.94-2.06-.94 2.06-2.06.94z\"/><path d=\"M17.41 7.96l-1.37-1.37c-.4-.4-.92-.59-1.43-.59-.52 0-1.04.2-1.43.59L10.3 9.45l-7.72 7.72c-.78.78-.78 2.05 0 2.83L4 21.41c.39.39.9.59 1.41.59.51 0 1.02-.2 1.41-.59l7.78-7.78 2.81-2.81c.8-.78.8-2.07 0-2.86zM5.41 20L4 18.59l7.72-7.72 1.47 1.35L5.41 20z\"/>\n",
              "  </svg>\n",
              "      </button>\n",
              "      \n",
              "  <style>\n",
              "    .colab-df-container {\n",
              "      display:flex;\n",
              "      flex-wrap:wrap;\n",
              "      gap: 12px;\n",
              "    }\n",
              "\n",
              "    .colab-df-convert {\n",
              "      background-color: #E8F0FE;\n",
              "      border: none;\n",
              "      border-radius: 50%;\n",
              "      cursor: pointer;\n",
              "      display: none;\n",
              "      fill: #1967D2;\n",
              "      height: 32px;\n",
              "      padding: 0 0 0 0;\n",
              "      width: 32px;\n",
              "    }\n",
              "\n",
              "    .colab-df-convert:hover {\n",
              "      background-color: #E2EBFA;\n",
              "      box-shadow: 0px 1px 2px rgba(60, 64, 67, 0.3), 0px 1px 3px 1px rgba(60, 64, 67, 0.15);\n",
              "      fill: #174EA6;\n",
              "    }\n",
              "\n",
              "    [theme=dark] .colab-df-convert {\n",
              "      background-color: #3B4455;\n",
              "      fill: #D2E3FC;\n",
              "    }\n",
              "\n",
              "    [theme=dark] .colab-df-convert:hover {\n",
              "      background-color: #434B5C;\n",
              "      box-shadow: 0px 1px 3px 1px rgba(0, 0, 0, 0.15);\n",
              "      filter: drop-shadow(0px 1px 2px rgba(0, 0, 0, 0.3));\n",
              "      fill: #FFFFFF;\n",
              "    }\n",
              "  </style>\n",
              "\n",
              "      <script>\n",
              "        const buttonEl =\n",
              "          document.querySelector('#df-e284042d-994a-4352-bea3-91078a09b52d button.colab-df-convert');\n",
              "        buttonEl.style.display =\n",
              "          google.colab.kernel.accessAllowed ? 'block' : 'none';\n",
              "\n",
              "        async function convertToInteractive(key) {\n",
              "          const element = document.querySelector('#df-e284042d-994a-4352-bea3-91078a09b52d');\n",
              "          const dataTable =\n",
              "            await google.colab.kernel.invokeFunction('convertToInteractive',\n",
              "                                                     [key], {});\n",
              "          if (!dataTable) return;\n",
              "\n",
              "          const docLinkHtml = 'Like what you see? Visit the ' +\n",
              "            '<a target=\"_blank\" href=https://colab.research.google.com/notebooks/data_table.ipynb>data table notebook</a>'\n",
              "            + ' to learn more about interactive tables.';\n",
              "          element.innerHTML = '';\n",
              "          dataTable['output_type'] = 'display_data';\n",
              "          await google.colab.output.renderOutput(dataTable, element);\n",
              "          const docLink = document.createElement('div');\n",
              "          docLink.innerHTML = docLinkHtml;\n",
              "          element.appendChild(docLink);\n",
              "        }\n",
              "      </script>\n",
              "    </div>\n",
              "  </div>\n",
              "  "
            ]
          },
          "metadata": {},
          "execution_count": 5
        }
      ]
    },
    {
      "cell_type": "code",
      "source": [
        "#Create a function to get the subjectivity \n",
        "\n",
        "def getSubjectivity(text):\n",
        "  return TextBlob(text).sentiment.subjectivity\n",
        "\n",
        "#Create a function to get the polarity\n",
        "\n",
        "def getPolarity(text):\n",
        "  return TextBlob(text).sentiment.polarity\n",
        "\n",
        "#Create two new columns\n",
        "df['Subjectivity'] = df['Tweets'].apply(getSubjectivity)\n",
        "df['Polarity'] = df['Tweets'].apply(getPolarity)\n",
        "\n",
        "#Show the new dataframe with new columns\n",
        "df"
      ],
      "metadata": {
        "colab": {
          "base_uri": "https://localhost:8080/",
          "height": 423
        },
        "id": "kD_nIBm1waoF",
        "outputId": "5a94367d-7bb9-470d-bdc6-8ee62f9a102b"
      },
      "execution_count": null,
      "outputs": [
        {
          "output_type": "execute_result",
          "data": {
            "text/plain": [
              "                                               Tweets  Subjectivity  Polarity\n",
              "0   This is a sad day. Reversing Roe v. Wade is an...      0.833333  0.000000\n",
              "1   Through renewed investments in malaria and NTD...      0.125000  0.000000\n",
              "2   Daniel Boakye of  has spent 45 years working o...      0.317857  0.092857\n",
              "3   When most people think about what produces gre...      0.590000  0.173333\n",
              "4   The Power by  raises timely questions about th...      0.000000  0.000000\n",
              "..                                                ...           ...       ...\n",
              "95  The best way to prevent pneumonia is to vaccin...      0.650000  1.000000\n",
              "96  Giving a TED talk is always a memorable (and n...      0.750000  0.562500\n",
              "97  Each day, polio workers around the world cross...      0.000000  0.000000\n",
              "98  Building a software company is nothing compare...      0.900000  0.500000\n",
              "99  The Global Fund is one of the kindest things p...      0.033333  0.000000\n",
              "\n",
              "[100 rows x 3 columns]"
            ],
            "text/html": [
              "\n",
              "  <div id=\"df-cd367837-89d7-4fab-bff0-2dbbaa6b82d8\">\n",
              "    <div class=\"colab-df-container\">\n",
              "      <div>\n",
              "<style scoped>\n",
              "    .dataframe tbody tr th:only-of-type {\n",
              "        vertical-align: middle;\n",
              "    }\n",
              "\n",
              "    .dataframe tbody tr th {\n",
              "        vertical-align: top;\n",
              "    }\n",
              "\n",
              "    .dataframe thead th {\n",
              "        text-align: right;\n",
              "    }\n",
              "</style>\n",
              "<table border=\"1\" class=\"dataframe\">\n",
              "  <thead>\n",
              "    <tr style=\"text-align: right;\">\n",
              "      <th></th>\n",
              "      <th>Tweets</th>\n",
              "      <th>Subjectivity</th>\n",
              "      <th>Polarity</th>\n",
              "    </tr>\n",
              "  </thead>\n",
              "  <tbody>\n",
              "    <tr>\n",
              "      <th>0</th>\n",
              "      <td>This is a sad day. Reversing Roe v. Wade is an...</td>\n",
              "      <td>0.833333</td>\n",
              "      <td>0.000000</td>\n",
              "    </tr>\n",
              "    <tr>\n",
              "      <th>1</th>\n",
              "      <td>Through renewed investments in malaria and NTD...</td>\n",
              "      <td>0.125000</td>\n",
              "      <td>0.000000</td>\n",
              "    </tr>\n",
              "    <tr>\n",
              "      <th>2</th>\n",
              "      <td>Daniel Boakye of  has spent 45 years working o...</td>\n",
              "      <td>0.317857</td>\n",
              "      <td>0.092857</td>\n",
              "    </tr>\n",
              "    <tr>\n",
              "      <th>3</th>\n",
              "      <td>When most people think about what produces gre...</td>\n",
              "      <td>0.590000</td>\n",
              "      <td>0.173333</td>\n",
              "    </tr>\n",
              "    <tr>\n",
              "      <th>4</th>\n",
              "      <td>The Power by  raises timely questions about th...</td>\n",
              "      <td>0.000000</td>\n",
              "      <td>0.000000</td>\n",
              "    </tr>\n",
              "    <tr>\n",
              "      <th>...</th>\n",
              "      <td>...</td>\n",
              "      <td>...</td>\n",
              "      <td>...</td>\n",
              "    </tr>\n",
              "    <tr>\n",
              "      <th>95</th>\n",
              "      <td>The best way to prevent pneumonia is to vaccin...</td>\n",
              "      <td>0.650000</td>\n",
              "      <td>1.000000</td>\n",
              "    </tr>\n",
              "    <tr>\n",
              "      <th>96</th>\n",
              "      <td>Giving a TED talk is always a memorable (and n...</td>\n",
              "      <td>0.750000</td>\n",
              "      <td>0.562500</td>\n",
              "    </tr>\n",
              "    <tr>\n",
              "      <th>97</th>\n",
              "      <td>Each day, polio workers around the world cross...</td>\n",
              "      <td>0.000000</td>\n",
              "      <td>0.000000</td>\n",
              "    </tr>\n",
              "    <tr>\n",
              "      <th>98</th>\n",
              "      <td>Building a software company is nothing compare...</td>\n",
              "      <td>0.900000</td>\n",
              "      <td>0.500000</td>\n",
              "    </tr>\n",
              "    <tr>\n",
              "      <th>99</th>\n",
              "      <td>The Global Fund is one of the kindest things p...</td>\n",
              "      <td>0.033333</td>\n",
              "      <td>0.000000</td>\n",
              "    </tr>\n",
              "  </tbody>\n",
              "</table>\n",
              "<p>100 rows × 3 columns</p>\n",
              "</div>\n",
              "      <button class=\"colab-df-convert\" onclick=\"convertToInteractive('df-cd367837-89d7-4fab-bff0-2dbbaa6b82d8')\"\n",
              "              title=\"Convert this dataframe to an interactive table.\"\n",
              "              style=\"display:none;\">\n",
              "        \n",
              "  <svg xmlns=\"http://www.w3.org/2000/svg\" height=\"24px\"viewBox=\"0 0 24 24\"\n",
              "       width=\"24px\">\n",
              "    <path d=\"M0 0h24v24H0V0z\" fill=\"none\"/>\n",
              "    <path d=\"M18.56 5.44l.94 2.06.94-2.06 2.06-.94-2.06-.94-.94-2.06-.94 2.06-2.06.94zm-11 1L8.5 8.5l.94-2.06 2.06-.94-2.06-.94L8.5 2.5l-.94 2.06-2.06.94zm10 10l.94 2.06.94-2.06 2.06-.94-2.06-.94-.94-2.06-.94 2.06-2.06.94z\"/><path d=\"M17.41 7.96l-1.37-1.37c-.4-.4-.92-.59-1.43-.59-.52 0-1.04.2-1.43.59L10.3 9.45l-7.72 7.72c-.78.78-.78 2.05 0 2.83L4 21.41c.39.39.9.59 1.41.59.51 0 1.02-.2 1.41-.59l7.78-7.78 2.81-2.81c.8-.78.8-2.07 0-2.86zM5.41 20L4 18.59l7.72-7.72 1.47 1.35L5.41 20z\"/>\n",
              "  </svg>\n",
              "      </button>\n",
              "      \n",
              "  <style>\n",
              "    .colab-df-container {\n",
              "      display:flex;\n",
              "      flex-wrap:wrap;\n",
              "      gap: 12px;\n",
              "    }\n",
              "\n",
              "    .colab-df-convert {\n",
              "      background-color: #E8F0FE;\n",
              "      border: none;\n",
              "      border-radius: 50%;\n",
              "      cursor: pointer;\n",
              "      display: none;\n",
              "      fill: #1967D2;\n",
              "      height: 32px;\n",
              "      padding: 0 0 0 0;\n",
              "      width: 32px;\n",
              "    }\n",
              "\n",
              "    .colab-df-convert:hover {\n",
              "      background-color: #E2EBFA;\n",
              "      box-shadow: 0px 1px 2px rgba(60, 64, 67, 0.3), 0px 1px 3px 1px rgba(60, 64, 67, 0.15);\n",
              "      fill: #174EA6;\n",
              "    }\n",
              "\n",
              "    [theme=dark] .colab-df-convert {\n",
              "      background-color: #3B4455;\n",
              "      fill: #D2E3FC;\n",
              "    }\n",
              "\n",
              "    [theme=dark] .colab-df-convert:hover {\n",
              "      background-color: #434B5C;\n",
              "      box-shadow: 0px 1px 3px 1px rgba(0, 0, 0, 0.15);\n",
              "      filter: drop-shadow(0px 1px 2px rgba(0, 0, 0, 0.3));\n",
              "      fill: #FFFFFF;\n",
              "    }\n",
              "  </style>\n",
              "\n",
              "      <script>\n",
              "        const buttonEl =\n",
              "          document.querySelector('#df-cd367837-89d7-4fab-bff0-2dbbaa6b82d8 button.colab-df-convert');\n",
              "        buttonEl.style.display =\n",
              "          google.colab.kernel.accessAllowed ? 'block' : 'none';\n",
              "\n",
              "        async function convertToInteractive(key) {\n",
              "          const element = document.querySelector('#df-cd367837-89d7-4fab-bff0-2dbbaa6b82d8');\n",
              "          const dataTable =\n",
              "            await google.colab.kernel.invokeFunction('convertToInteractive',\n",
              "                                                     [key], {});\n",
              "          if (!dataTable) return;\n",
              "\n",
              "          const docLinkHtml = 'Like what you see? Visit the ' +\n",
              "            '<a target=\"_blank\" href=https://colab.research.google.com/notebooks/data_table.ipynb>data table notebook</a>'\n",
              "            + ' to learn more about interactive tables.';\n",
              "          element.innerHTML = '';\n",
              "          dataTable['output_type'] = 'display_data';\n",
              "          await google.colab.output.renderOutput(dataTable, element);\n",
              "          const docLink = document.createElement('div');\n",
              "          docLink.innerHTML = docLinkHtml;\n",
              "          element.appendChild(docLink);\n",
              "        }\n",
              "      </script>\n",
              "    </div>\n",
              "  </div>\n",
              "  "
            ]
          },
          "metadata": {},
          "execution_count": 6
        }
      ]
    },
    {
      "cell_type": "code",
      "source": [
        "#Plot the word cloud\n",
        "allWords = ' '.join( [twts for twts in df['Tweets']] )\n",
        "wordCloud = WordCloud(width = 500, height = 300, random_state = 21, max_font_size = 119).generate(allWords)\n",
        "\n",
        "plt.imshow(wordCloud, interpolation = 'bilinear')\n",
        "plt.axis('off')\n",
        "plt.show()"
      ],
      "metadata": {
        "colab": {
          "base_uri": "https://localhost:8080/",
          "height": 248
        },
        "id": "LC7zU9LFwaqq",
        "outputId": "50bdce23-007f-43a9-c0f5-5ec61cd14cf6"
      },
      "execution_count": null,
      "outputs": [
        {
          "output_type": "display_data",
          "data": {
            "text/plain": [
              "<Figure size 432x288 with 1 Axes>"
            ],
            "image/png": "[encoded data removed]"
          },
          "metadata": {
            "needs_background": "light"
          }
        }
      ]
    },
    {
      "cell_type": "code",
      "source": [
        "#Create a function to compute the negative, neutral and positive analysis\n",
        "\n",
        "def getAnalysis(score):\n",
        "  if score < 0:\n",
        "    return 'Negative'\n",
        "  elif score == 0:\n",
        "    return 'Neutral'\n",
        "  else:\n",
        "    return 'Positive'\n",
        "\n",
        "df['Analysis'] = df['Polarity'].apply(getAnalysis)\n",
        "\n",
        "df"
      ],
      "metadata": {
        "colab": {
          "base_uri": "https://localhost:8080/",
          "height": 423
        },
        "id": "b-xoXQRIwats",
        "outputId": "6e938e84-9445-406d-c391-0811e97c229c"
      },
      "execution_count": null,
      "outputs": [
        {
          "output_type": "execute_result",
          "data": {
            "text/plain": [
              "                                               Tweets  Subjectivity  Polarity  \\\n",
              "0   This is a sad day. Reversing Roe v. Wade is an...      0.833333  0.000000   \n",
              "1   Through renewed investments in malaria and NTD...      0.125000  0.000000   \n",
              "2   Daniel Boakye of  has spent 45 years working o...      0.317857  0.092857   \n",
              "3   When most people think about what produces gre...      0.590000  0.173333   \n",
              "4   The Power by  raises timely questions about th...      0.000000  0.000000   \n",
              "..                                                ...           ...       ...   \n",
              "95  The best way to prevent pneumonia is to vaccin...      0.650000  1.000000   \n",
              "96  Giving a TED talk is always a memorable (and n...      0.750000  0.562500   \n",
              "97  Each day, polio workers around the world cross...      0.000000  0.000000   \n",
              "98  Building a software company is nothing compare...      0.900000  0.500000   \n",
              "99  The Global Fund is one of the kindest things p...      0.033333  0.000000   \n",
              "\n",
              "    Analysis  \n",
              "0    Neutral  \n",
              "1    Neutral  \n",
              "2   Positive  \n",
              "3   Positive  \n",
              "4    Neutral  \n",
              "..       ...  \n",
              "95  Positive  \n",
              "96  Positive  \n",
              "97   Neutral  \n",
              "98  Positive  \n",
              "99   Neutral  \n",
              "\n",
              "[100 rows x 4 columns]"
            ],
            "text/html": [
              "\n",
              "  <div id=\"df-cbe4b031-58ed-496e-ae85-bec6ed39ff8f\">\n",
              "    <div class=\"colab-df-container\">\n",
              "      <div>\n",
              "<style scoped>\n",
              "    .dataframe tbody tr th:only-of-type {\n",
              "        vertical-align: middle;\n",
              "    }\n",
              "\n",
              "    .dataframe tbody tr th {\n",
              "        vertical-align: top;\n",
              "    }\n",
              "\n",
              "    .dataframe thead th {\n",
              "        text-align: right;\n",
              "    }\n",
              "</style>\n",
              "<table border=\"1\" class=\"dataframe\">\n",
              "  <thead>\n",
              "    <tr style=\"text-align: right;\">\n",
              "      <th></th>\n",
              "      <th>Tweets</th>\n",
              "      <th>Subjectivity</th>\n",
              "      <th>Polarity</th>\n",
              "      <th>Analysis</th>\n",
              "    </tr>\n",
              "  </thead>\n",
              "  <tbody>\n",
              "    <tr>\n",
              "      <th>0</th>\n",
              "      <td>This is a sad day. Reversing Roe v. Wade is an...</td>\n",
              "      <td>0.833333</td>\n",
              "      <td>0.000000</td>\n",
              "      <td>Neutral</td>\n",
              "    </tr>\n",
              "    <tr>\n",
              "      <th>1</th>\n",
              "      <td>Through renewed investments in malaria and NTD...</td>\n",
              "      <td>0.125000</td>\n",
              "      <td>0.000000</td>\n",
              "      <td>Neutral</td>\n",
              "    </tr>\n",
              "    <tr>\n",
              "      <th>2</th>\n",
              "      <td>Daniel Boakye of  has spent 45 years working o...</td>\n",
              "      <td>0.317857</td>\n",
              "      <td>0.092857</td>\n",
              "      <td>Positive</td>\n",
              "    </tr>\n",
              "    <tr>\n",
              "      <th>3</th>\n",
              "      <td>When most people think about what produces gre...</td>\n",
              "      <td>0.590000</td>\n",
              "      <td>0.173333</td>\n",
              "      <td>Positive</td>\n",
              "    </tr>\n",
              "    <tr>\n",
              "      <th>4</th>\n",
              "      <td>The Power by  raises timely questions about th...</td>\n",
              "      <td>0.000000</td>\n",
              "      <td>0.000000</td>\n",
              "      <td>Neutral</td>\n",
              "    </tr>\n",
              "    <tr>\n",
              "      <th>...</th>\n",
              "      <td>...</td>\n",
              "      <td>...</td>\n",
              "      <td>...</td>\n",
              "      <td>...</td>\n",
              "    </tr>\n",
              "    <tr>\n",
              "      <th>95</th>\n",
              "      <td>The best way to prevent pneumonia is to vaccin...</td>\n",
              "      <td>0.650000</td>\n",
              "      <td>1.000000</td>\n",
              "      <td>Positive</td>\n",
              "    </tr>\n",
              "    <tr>\n",
              "      <th>96</th>\n",
              "      <td>Giving a TED talk is always a memorable (and n...</td>\n",
              "      <td>0.750000</td>\n",
              "      <td>0.562500</td>\n",
              "      <td>Positive</td>\n",
              "    </tr>\n",
              "    <tr>\n",
              "      <th>97</th>\n",
              "      <td>Each day, polio workers around the world cross...</td>\n",
              "      <td>0.000000</td>\n",
              "      <td>0.000000</td>\n",
              "      <td>Neutral</td>\n",
              "    </tr>\n",
              "    <tr>\n",
              "      <th>98</th>\n",
              "      <td>Building a software company is nothing compare...</td>\n",
              "      <td>0.900000</td>\n",
              "      <td>0.500000</td>\n",
              "      <td>Positive</td>\n",
              "    </tr>\n",
              "    <tr>\n",
              "      <th>99</th>\n",
              "      <td>The Global Fund is one of the kindest things p...</td>\n",
              "      <td>0.033333</td>\n",
              "      <td>0.000000</td>\n",
              "      <td>Neutral</td>\n",
              "    </tr>\n",
              "  </tbody>\n",
              "</table>\n",
              "<p>100 rows × 4 columns</p>\n",
              "</div>\n",
              "      <button class=\"colab-df-convert\" onclick=\"convertToInteractive('df-cbe4b031-58ed-496e-ae85-bec6ed39ff8f')\"\n",
              "              title=\"Convert this dataframe to an interactive table.\"\n",
              "              style=\"display:none;\">\n",
              "        \n",
              "  <svg xmlns=\"http://www.w3.org/2000/svg\" height=\"24px\"viewBox=\"0 0 24 24\"\n",
              "       width=\"24px\">\n",
              "    <path d=\"M0 0h24v24H0V0z\" fill=\"none\"/>\n",
              "    <path d=\"M18.56 5.44l.94 2.06.94-2.06 2.06-.94-2.06-.94-.94-2.06-.94 2.06-2.06.94zm-11 1L8.5 8.5l.94-2.06 2.06-.94-2.06-.94L8.5 2.5l-.94 2.06-2.06.94zm10 10l.94 2.06.94-2.06 2.06-.94-2.06-.94-.94-2.06-.94 2.06-2.06.94z\"/><path d=\"M17.41 7.96l-1.37-1.37c-.4-.4-.92-.59-1.43-.59-.52 0-1.04.2-1.43.59L10.3 9.45l-7.72 7.72c-.78.78-.78 2.05 0 2.83L4 21.41c.39.39.9.59 1.41.59.51 0 1.02-.2 1.41-.59l7.78-7.78 2.81-2.81c.8-.78.8-2.07 0-2.86zM5.41 20L4 18.59l7.72-7.72 1.47 1.35L5.41 20z\"/>\n",
              "  </svg>\n",
              "      </button>\n",
              "      \n",
              "  <style>\n",
              "    .colab-df-container {\n",
              "      display:flex;\n",
              "      flex-wrap:wrap;\n",
              "      gap: 12px;\n",
              "    }\n",
              "\n",
              "    .colab-df-convert {\n",
              "      background-color: #E8F0FE;\n",
              "      border: none;\n",
              "      border-radius: 50%;\n",
              "      cursor: pointer;\n",
              "      display: none;\n",
              "      fill: #1967D2;\n",
              "      height: 32px;\n",
              "      padding: 0 0 0 0;\n",
              "      width: 32px;\n",
              "    }\n",
              "\n",
              "    .colab-df-convert:hover {\n",
              "      background-color: #E2EBFA;\n",
              "      box-shadow: 0px 1px 2px rgba(60, 64, 67, 0.3), 0px 1px 3px 1px rgba(60, 64, 67, 0.15);\n",
              "      fill: #174EA6;\n",
              "    }\n",
              "\n",
              "    [theme=dark] .colab-df-convert {\n",
              "      background-color: #3B4455;\n",
              "      fill: #D2E3FC;\n",
              "    }\n",
              "\n",
              "    [theme=dark] .colab-df-convert:hover {\n",
              "      background-color: #434B5C;\n",
              "      box-shadow: 0px 1px 3px 1px rgba(0, 0, 0, 0.15);\n",
              "      filter: drop-shadow(0px 1px 2px rgba(0, 0, 0, 0.3));\n",
              "      fill: #FFFFFF;\n",
              "    }\n",
              "  </style>\n",
              "\n",
              "      <script>\n",
              "        const buttonEl =\n",
              "          document.querySelector('#df-cbe4b031-58ed-496e-ae85-bec6ed39ff8f button.colab-df-convert');\n",
              "        buttonEl.style.display =\n",
              "          google.colab.kernel.accessAllowed ? 'block' : 'none';\n",
              "\n",
              "        async function convertToInteractive(key) {\n",
              "          const element = document.querySelector('#df-cbe4b031-58ed-496e-ae85-bec6ed39ff8f');\n",
              "          const dataTable =\n",
              "            await google.colab.kernel.invokeFunction('convertToInteractive',\n",
              "                                                     [key], {});\n",
              "          if (!dataTable) return;\n",
              "\n",
              "          const docLinkHtml = 'Like what you see? Visit the ' +\n",
              "            '<a target=\"_blank\" href=https://colab.research.google.com/notebooks/data_table.ipynb>data table notebook</a>'\n",
              "            + ' to learn more about interactive tables.';\n",
              "          element.innerHTML = '';\n",
              "          dataTable['output_type'] = 'display_data';\n",
              "          await google.colab.output.renderOutput(dataTable, element);\n",
              "          const docLink = document.createElement('div');\n",
              "          docLink.innerHTML = docLinkHtml;\n",
              "          element.appendChild(docLink);\n",
              "        }\n",
              "      </script>\n",
              "    </div>\n",
              "  </div>\n",
              "  "
            ]
          },
          "metadata": {},
          "execution_count": 9
        }
      ]
    },
    {
      "cell_type": "code",
      "source": [
        "# Print all of the positive tweets\n",
        "\n",
        "j = 1\n",
        "sortedDF = df.sort_values(by = ['Polarity'])\n",
        "for i in range(0, sortedDF.shape[0]):\n",
        "  if(sortedDF['Analysis'][i] == 'Positive'):\n",
        "    print(str(j) + ')' +sortedDF['Tweets'][i])\n",
        "    print()\n",
        "    j = j+1"
      ],
      "metadata": {
        "colab": {
          "base_uri": "https://localhost:8080/"
        },
        "id": "RjLZ9hQlwawH",
        "outputId": "9806fac5-d267-498d-d6e2-564913ca0254"
      },
      "execution_count": null,
      "outputs": [
        {
          "output_type": "stream",
          "name": "stdout",
          "text": [
            "1)Daniel Boakye of  has spent 45 years working on solutions for neglected tropical diseases, including river blindness. As he says, “We have the tools we need. The priority now is to deploy them in the right way to get to elimination.” \n",
            "\n",
            "2)When most people think about what produces greenhouse gas emissions, they think about cars and electricity. But they add up to only about one third of the total. Clean hydrogen could help eliminate the rest:  \n",
            "\n",
            "3)Important guidance from  founder _hfillit outlining the path forward on Alzheimer’s: \n",
            "▪️ More – and better – biomarkers\n",
            "▪️ Exploratory trials\n",
            "▪️ Repurposed drugs\n",
            "\n",
            "\n",
            "4)My advice is simple: read a lot and discover a skill you enjoy. For some, that means being great at science or a great communicator. There’s so much opportunity to do good in the world.\n",
            "\n",
            "5)It made me think a lot about what I would tell my younger self. I remember this guy. A lot has changed since this photo, but I remember how excited I felt for the next chapter. \n",
            "\n",
            "6)I was recently asked what advice I would give to young people who want to make a positive impact on the world.\n",
            "\n",
            "7)What a great meeting with WA’s teacher of the year, Jared Koepp. He taught me a lot about the challenges that Native students face. \n",
            "\n",
            "8) Very cool to hear about all your exciting research. Thanks for letting me be a jaramigo for the day!\n",
            "\n",
            "9)  It was great to meet you yesterday!\n",
            "\n",
            "10)I’m grateful for Warren’s gifts to support the foundation’s work and for our many years of friendship. When he decided in 2006 to make these gifts, it moved me to tears. It still does. \n",
            "\n",
            "11)The fact is, we’ve never been closer to ending polio. The huge progress Pakistan has made in the fight against polio is a reminder for why the world cannot lose sight of this goal. \n",
            "\n",
            "12)It really is mind-blowing how quickly safe, effective COVID-19 vaccines were made:  \n",
            "\n",
            "13)Another masterpiece from one of my favorite authors, . If you want a brief but thorough education in numeric thinking about many of the forces that shape human life, this is the book to read. You can download a free chapter of it here:  \n",
            "\n",
            "14)Multiple people told me to read The Ministry for the Future by Kim Stanley Robinson and I’m glad I listened – it’s terrific. Robinson presents a stimulating story on climate change, spanning decades and continents. It's packed with fascinating ideas:  \n",
            "\n",
            "15).'s Why We’re Polarized is a fascinating look at human psychology. He argues that the increasing polarization in America stems from identity—the human instinct to let our group identities guide our decision-making:  \n",
            "\n",
            "16)I’m glad that I followed ’s recommendation for The Power by . I gained a more visceral sense of the abuse and injustice women experience today. The people who tackle these issues around the world are truly heroes:  \n",
            "\n",
            "17)I recently published a list of books you might want to read this summer. Each of the writers took a meaty subject and made it compelling without sacrificing any complexity:  \n",
            "\n",
            "18)It’s amazing how much I learn from reading . Here’s a fascinating article on new brain charts that could help doctors diagnose Alzheimer’s earlier. \n",
            "\n",
            "19)  Glad you enjoyed the book. The Serum Institute has been a fantastic partner along with other Indian manufacturers to ensure that low-cost vaccines can help save lives in India and beyond.\n",
            "\n",
            "20)._andrews of _Vesta is using the natural mineral olivine and oceans to remove a trillion tons of carbon dioxide from the atmosphere. WorldOceansDay \n",
            "\n",
            "21)These heroes are doing incredible work. \n",
            "\n",
            "22)The brilliant team behind the @_Oceanbird_ could reduce carbon emissions in the sailing industry by up to 90% using clean wind power technology. \n",
            "\n",
            "23)As Head of Operations of _energy,  is working to harness the same energy source that powers the stars to create clean energy here on Earth. \n",
            "\n",
            "24)Meet some of the brilliant people behind the breakthroughs that could help the world get to net-zero carbon emissions.\n",
            "\n",
            "25)Kim () was nominated for her outstanding research and her wider activism for global health. Just look at how much she’s accomplished so far. \n",
            "\n",
            "26)Cynthia () is an outstanding scientist, researcher, teacher, and leader. She supports hundreds of students through the African Society of Cambridge University and co-founded .\n",
            "\n",
            "27)Reetika’s research explores gender violence and the climate crisis – lifting up the experiences of Dalit and Adivasi girls. Here’s a look at ’s award-winning comic book. \n",
            "\n",
            "28)Even though my dad is no longer with us, his wisdom and generosity lives on through the work of _Cambridge scholars. This year, 3 exceptional scholars received the Bill Gates Sr. Prize for outstanding research and leadership. \n",
            "\n",
            "29)Earlier this year, I made my first trip ever to Pakistan to learn more about the country’s incredible efforts to wipe out polio:  \n",
            "\n",
            "30)It was great to catch up with  40 years after our first interview.\n",
            "\n",
            "31)The greatest medical breakthrough of this pandemic is the creation of COVID-19 vaccines that use mRNA. Here are 4 steps to develop, manufacture, and distribute vaccines even faster next time. \n",
            "\n",
            "32)To meet the world’s climate goals, clean energy technology needs to be affordable, attractive, and accessible to all. \n",
            "\n",
            "33)Just like we have a robust system to prevent and extinguish fires, there needs to be an equally effective system to identify and respond to disease outbreaks. This firefighting comparison is a useful way to understand the amazing work of :  \n",
            "\n",
            "34)I can’t believe this was 15 years ago. I always enjoyed the  conference. \n",
            "\n",
            "35)  Reconnecting with Steve was fantastic. And for the record, I wasn’t reluctant to take the photo. But I do wish I had an opportunity to run a comb through my hair first.\n",
            "\n",
            "36)Incredible. \n",
            "\n",
            "\n",
            "37)I recently met with 33 graduate students and a few leading scientists about how to make sure disease outbreaks don’t go global:  \n",
            "\n",
            "38)While there are many great commencement speeches, I found this one from my friend Reid particularly insightful. \n",
            "\n",
            "39) It was great to meet Dr  and exchange perspectives on global health. India's success with the vaccination drive and the use of technology to drive health outcomes at scale offers many lessons for the world.\n",
            "\n",
            "40)Happy to meet Prime Minister  and members of his government today in Madrid. Great to see his leadership and commitment to addressing some of the most pressing global challenges, particularly more equity in global health, climate change and food security. \n",
            "\n",
            "41)The school shooting in Texas is heartbreaking. No parent should worry that their child isn’t safe at school. We must come together and act now so this never happens again.\n",
            "\n",
            "42)Not long ago, the world increased aid for global health during a time of crisis. We must do so again. \n",
            "\n",
            "43)Movies like Outbreak nailed it when they imagined a global disease-fighting team who is ready to respond to a crisis on a moment’s notice. Now we need to make it a reality. \n",
            "\n",
            "44)Ruth’s discovery of rotavirus saved millions of lives. And learning about rota is what inspired us to launch . Ruth was a real hero. \n",
            "\n",
            "45)I had a great time answering questions on  yesterday about pandemic prevention, climate change, farmland, my cell phone, and much more. Here are some highlights. \n",
            "\n",
            "46)This warehouse is cool – for many reasons. \n",
            "\n",
            "47)I have appreciated our conversations over the years and your perspective about the importance of staying prepared. \n",
            "\n",
            "48)It was an honor to speak (virtually) at the GlobalCOVIDSummit today about the urgent action needed to end this pandemic and prevent the next. I'm grateful for the leadership from the US, Belize, Germany, Indonesia and Senegal. \n",
            "\n",
            "49)Bono, you’re just as amazing a philanthropist as you are a friend. Working and learning together has been one of my greatest joys. \n",
            "\n",
            "50)The Gates Foundation is coming together today for the first time in two years, and I am lucky to be on Teams to see everyone and thank them for their hard work.\n",
            "\n",
            "51)I'm fortunate to be vaccinated and boosted and have access to testing and great medical care.\n",
            "\n",
            "52)I've tested positive for COVID. I'm experiencing mild symptoms and am following the experts' advice by isolating until I'm healthy again.\n",
            "\n",
            "53)World-changing ideas require bold thinkers and doers to transform them into reality. These new Advisory Group members for the ’s Goalkeepers initiative are changing the world. \n",
            "\n",
            "54)Katalin Kariko () saw the potential of mRNA to save lives when few others did–and she was willing to fight tooth and nail to pursue it:  \n",
            "\n",
            "55)Thank you for having me, , and for your commitment to tackling some of the world's toughest challenges, like climate change and better health everywhere in the world. I’m excited to continue working towards a future without pandemics. \n",
            "\n",
            "56)John’s leadership at  has been remarkable – especially during the last two years. ’s work has saved tens of millions of lives, and there are many reasons to be hopeful about HIV prevention and treatment in the future. \n",
            "\n",
            "57)If we’re going to prevent the next pandemic, the world needs the infectious disease equivalent of firefighters. Also in this video: a cute puppy. \n",
            "\n",
            "58)  Thanks for having me!\n",
            "\n",
            "59): “If COVID-19 ends up being the last pandemic, it will be because we made the world a much more equitable place.” https…\n",
            "\n",
            "60)This is amazing, John and Ann. It’s great to see you supporting the next generation of innovators—the people we’re all counting on to make clean-energy breakthroughs. \n",
            "\n",
            "61)It was an honor to meet front line heroes like Laura. Your heroic work is an inspiration to us all. \n",
            "\n",
            "62)What a day! I had a great time in London chatting with , , and Professor Dame Sarah Gilbert about my new book. \n",
            "\n",
            "63)Thanks,  for the thoughtful conversation. I always appreciate your smart questions (and smarter jokes) about these really important issues. \n",
            "\n",
            "64)My new book, How to Prevent the Next Pandemic, is available now. Proceeds will be donated to Partners in Health in memory of Dr. Paul Farmer, who inspired the world with his commitment to saving lives:  \n",
            "\n",
            "65)I was shocked to wake up to the news this morning. A reversal of Roe v. Wade would set us back 50 years and disproportionately impact the most vulnerable women in society.\n",
            "\n",
            "I support a woman's right to make their own decisions about their health care.\n",
            "\n",
            "66)My new book comes out tomorrow – but  Insiders can get an early sneak peek and download a free chapter now:  \n",
            "\n",
            "67)No one wants to live through this again – and we don’t have to. As  says: Outbreaks are inevitable, but pandemics are optional. \n",
            "\n",
            "68)I’ve been lucky to spend time with, and learn from, many extraordinary teachers over the years, like these incredible Washington State teachers. I appreciate their dedication and resilience. TeacherAppreciationWeek \n",
            "\n",
            "69)The world wasn’t ready for COVID, but we can choose to be ready next time. \n",
            "\n",
            "70)I’m excited to chat with one of my favorite thinkers  next week at ! \n",
            "\n",
            "71)The best way to prevent pneumonia is to vaccinate children against the pathogens that cause it. This is an impressive effort. LongLifeForAll _INDIA \n",
            "\n",
            "72)Giving a TED talk is always a memorable (and nerve-wracking!) experience. Beyond the talk, I also got to listen to the stories of frontline workers and catch up with some of the people working to make the world a more equitable place: \n",
            "\n",
            "73)Building a software company is nothing compared to building a Roman fire bucket. I tried my hand at it for my latest TED Talk:  \n",
            "\n"
          ]
        }
      ]
    },
    {
      "cell_type": "code",
      "source": [
        "#Print the negative tweets\n",
        "# Print all of the positive tweets\n",
        "\n",
        "j = 1\n",
        "sortedDF_neg = df.sort_values(by = ['Polarity'])\n",
        "for i in range(0, sortedDF_neg.shape[0]):\n",
        "  if(sortedDF_neg['Analysis'][i] == 'Negative'):\n",
        "    print(str(j) + ')' +sortedDF_neg['Tweets'][i])\n",
        "    print()\n",
        "    j = j+1"
      ],
      "metadata": {
        "colab": {
          "base_uri": "https://localhost:8080/"
        },
        "id": "QHojLp_Kwaye",
        "outputId": "52b1689e-76de-419f-9e5c-2b18e89daee6"
      },
      "execution_count": null,
      "outputs": [
        {
          "output_type": "stream",
          "name": "stdout",
          "text": [
            "1)Yesterday, I had a chance to spend the day focusing on climate – and the innovations that can prevent the very worst effects of climate change. \n",
            "\n",
            "2)To avoid another COVID-19 – or worse – the world needs a full-time, paid team whose entire job is to prevent pandemics. I call it GERM: \n",
            "\n"
          ]
        }
      ]
    },
    {
      "cell_type": "code",
      "source": [
        "#Plot the polarity and subjectivity\n",
        "plt.figure(figsize = (8,6))\n",
        "for i in range(0, df.shape[0]):\n",
        "  plt.scatter(df['Polarity'][i], df['Subjectivity'][i], color = 'Blue')\n",
        "\n",
        "plt.title('Sentiment Analysis')\n",
        "plt.xlabel('Polarity')\n",
        "plt.ylabel('Subjectivity')\n",
        "plt.show\n"
      ],
      "metadata": {
        "colab": {
          "base_uri": "https://localhost:8080/",
          "height": 423
        },
        "id": "QSiA_5-3wa0-",
        "outputId": "768d6981-5501-4a24-ed9f-65c70571f935"
      },
      "execution_count": null,
      "outputs": [
        {
          "output_type": "execute_result",
          "data": {
            "text/plain": [
              "<function matplotlib.pyplot.show>"
            ]
          },
          "metadata": {},
          "execution_count": 13
        },
        {
          "output_type": "display_data",
          "data": {
            "text/plain": [
              "<Figure size 576x432 with 1 Axes>"
            ],
            "image/png": "[encoded data removed]"
          },
          "metadata": {
            "needs_background": "light"
          }
        }
      ]
    },
    {
      "cell_type": "code",
      "source": [
        "# Get the percentage of positive tweets\n",
        "\n",
        "ptweets = df[df.Analysis == 'Positive']\n",
        "ptweets = ptweets['Tweets']\n",
        "ptweets\n",
        "\n",
        "print(round((ptweets.shape[0] / df.shape[0])*100, 1))"
      ],
      "metadata": {
        "colab": {
          "base_uri": "https://localhost:8080/"
        },
        "id": "A3_JK-Thwa3a",
        "outputId": "5c93804f-81e9-4c78-c111-d0051d890d4e"
      },
      "execution_count": null,
      "outputs": [
        {
          "output_type": "stream",
          "name": "stdout",
          "text": [
            "73.0\n"
          ]
        }
      ]
    },
    {
      "cell_type": "code",
      "source": [
        "# Get the percentage of negative tweets\n",
        "\n",
        "ntweets = df[df.Analysis == 'Negative']\n",
        "ntweets = ntweets['Tweets']\n",
        "ntweets\n",
        "\n",
        "print(round((ntweets.shape[0] / df.shape[0])*100, 1))"
      ],
      "metadata": {
        "colab": {
          "base_uri": "https://localhost:8080/"
        },
        "id": "hbzElAASwa5-",
        "outputId": "d975f865-c4fe-405a-c587-0b0ebceec716"
      },
      "execution_count": null,
      "outputs": [
        {
          "output_type": "stream",
          "name": "stdout",
          "text": [
            "2.0\n"
          ]
        }
      ]
    },
    {
      "cell_type": "code",
      "source": [
        "#Show the value counts\n",
        "\n",
        "df['Analysis'].value_counts()\n",
        "\n",
        "#Plot and visualize the counts\n",
        "\n",
        "plt.title('Sentiment Analysis')\n",
        "plt.xlabel('Sentiment')\n",
        "plt.ylabel('Counts')\n",
        "df['Analysis'].value_counts().plot(kind = 'bar')\n",
        "plt.show"
      ],
      "metadata": {
        "colab": {
          "base_uri": "https://localhost:8080/",
          "height": 349
        },
        "id": "53RhHb8Ewa8V",
        "outputId": "ade94eb0-beb6-4d75-9eec-045ed1ac7044"
      },
      "execution_count": null,
      "outputs": [
        {
          "output_type": "execute_result",
          "data": {
            "text/plain": [
              "<function matplotlib.pyplot.show>"
            ]
          },
          "metadata": {},
          "execution_count": 17
        },
        {
          "output_type": "display_data",
          "data": {
            "text/plain": [
              "<Figure size 432x288 with 1 Axes>"
            ],
            "image/png": "[encoded data removed]"
          },
          "metadata": {
            "needs_background": "light"
          }
        }
      ]
    },
    {
      "cell_type": "code",
      "source": [
        ""
      ],
      "metadata": {
        "id": "FpJMQ6Fhwa_Q"
      },
      "execution_count": null,
      "outputs": []
    },
    {
      "cell_type": "code",
      "source": [
        ""
      ],
      "metadata": {
        "id": "rQA_JknlwbBy"
      },
      "execution_count": null,
      "outputs": []
    },
    {
      "cell_type": "code",
      "source": [
        ""
      ],
      "metadata": {
        "id": "lsMv3N38wbEF"
      },
      "execution_count": null,
      "outputs": []
    },
    {
      "cell_type": "code",
      "source": [
        ""
      ],
      "metadata": {
        "id": "KibXfkBYwbGm"
      },
      "execution_count": null,
      "outputs": []
    },
    {
      "cell_type": "code",
      "source": [
        ""
      ],
      "metadata": {
        "id": "6De3T0KowbI7"
      },
      "execution_count": null,
      "outputs": []
    },
    {
      "cell_type": "code",
      "source": [
        ""
      ],
      "metadata": {
        "id": "CkvZpQ7_wbLb"
      },
      "execution_count": null,
      "outputs": []
    },
    {
      "cell_type": "code",
      "source": [
        ""
      ],
      "metadata": {
        "id": "3pSCzlyCwbOJ"
      },
      "execution_count": null,
      "outputs": []
    },
    {
      "cell_type": "code",
      "source": [
        ""
      ],
      "metadata": {
        "id": "oYwO3HwnwbQp"
      },
      "execution_count": null,
      "outputs": []
    },
    {
      "cell_type": "code",
      "source": [
        ""
      ],
      "metadata": {
        "id": "JRJvqJ_JwbTJ"
      },
      "execution_count": null,
      "outputs": []
    },
    {
      "cell_type": "code",
      "source": [
        ""
      ],
      "metadata": {
        "id": "Xm70QeZIwbV3"
      },
      "execution_count": null,
      "outputs": []
    },
    {
      "cell_type": "code",
      "source": [
        ""
      ],
      "metadata": {
        "id": "CWI9hGQdwbY0"
      },
      "execution_count": null,
      "outputs": []
    },
    {
      "cell_type": "code",
      "source": [
        ""
      ],
      "metadata": {
        "id": "1m67zDHdwbbo"
      },
      "execution_count": null,
      "outputs": []
    },
    {
      "cell_type": "code",
      "source": [
        ""
      ],
      "metadata": {
        "id": "D_flhP0Awbde"
      },
      "execution_count": null,
      "outputs": []
    },
    {
      "cell_type": "code",
      "source": [
        ""
      ],
      "metadata": {
        "id": "gNX-TTTDwbgP"
      },
      "execution_count": null,
      "outputs": []
    },
    {
      "cell_type": "code",
      "source": [
        ""
      ],
      "metadata": {
        "id": "-tikWqaxwbiy"
      },
      "execution_count": null,
      "outputs": []
    },
    {
      "cell_type": "code",
      "source": [
        ""
      ],
      "metadata": {
        "id": "sN9IzpEcwblJ"
      },
      "execution_count": null,
      "outputs": []
    },
    {
      "cell_type": "code",
      "source": [
        ""
      ],
      "metadata": {
        "id": "LcaTY-gmwbot"
      },
      "execution_count": null,
      "outputs": []
    },
    {
      "cell_type": "code",
      "source": [
        ""
      ],
      "metadata": {
        "id": "HTnXiISswbri"
      },
      "execution_count": null,
      "outputs": []
    },
    {
      "cell_type": "code",
      "source": [
        ""
      ],
      "metadata": {
        "id": "8L5d6zljwbt2"
      },
      "execution_count": null,
      "outputs": []
    }
  ]
}